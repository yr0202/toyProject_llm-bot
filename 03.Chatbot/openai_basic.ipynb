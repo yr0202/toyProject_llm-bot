{
 "cells": [
  {
   "cell_type": "code",
   "execution_count": 1,
   "metadata": {},
   "outputs": [
    {
     "name": "stdout",
     "output_type": "stream",
     "text": [
      "Requirement already satisfied: openai in c:\\users\\yoora\\llm_project_devcamp\\yuram-llm-bot\\.venv\\lib\\site-packages (1.43.0)\n",
      "Requirement already satisfied: anyio<5,>=3.5.0 in c:\\users\\yoora\\llm_project_devcamp\\yuram-llm-bot\\.venv\\lib\\site-packages (from openai) (4.4.0)\n",
      "Requirement already satisfied: distro<2,>=1.7.0 in c:\\users\\yoora\\llm_project_devcamp\\yuram-llm-bot\\.venv\\lib\\site-packages (from openai) (1.9.0)\n",
      "Requirement already satisfied: httpx<1,>=0.23.0 in c:\\users\\yoora\\llm_project_devcamp\\yuram-llm-bot\\.venv\\lib\\site-packages (from openai) (0.27.2)\n",
      "Requirement already satisfied: jiter<1,>=0.4.0 in c:\\users\\yoora\\llm_project_devcamp\\yuram-llm-bot\\.venv\\lib\\site-packages (from openai) (0.4.2)\n",
      "Requirement already satisfied: pydantic<3,>=1.9.0 in c:\\users\\yoora\\llm_project_devcamp\\yuram-llm-bot\\.venv\\lib\\site-packages (from openai) (2.8.2)\n",
      "Requirement already satisfied: sniffio in c:\\users\\yoora\\llm_project_devcamp\\yuram-llm-bot\\.venv\\lib\\site-packages (from openai) (1.3.1)\n",
      "Requirement already satisfied: tqdm>4 in c:\\users\\yoora\\llm_project_devcamp\\yuram-llm-bot\\.venv\\lib\\site-packages (from openai) (4.66.5)\n",
      "Requirement already satisfied: typing-extensions<5,>=4.11 in c:\\users\\yoora\\llm_project_devcamp\\yuram-llm-bot\\.venv\\lib\\site-packages (from openai) (4.12.2)\n",
      "Requirement already satisfied: idna>=2.8 in c:\\users\\yoora\\llm_project_devcamp\\yuram-llm-bot\\.venv\\lib\\site-packages (from anyio<5,>=3.5.0->openai) (3.8)\n",
      "Requirement already satisfied: certifi in c:\\users\\yoora\\llm_project_devcamp\\yuram-llm-bot\\.venv\\lib\\site-packages (from httpx<1,>=0.23.0->openai) (2024.8.30)\n",
      "Requirement already satisfied: httpcore==1.* in c:\\users\\yoora\\llm_project_devcamp\\yuram-llm-bot\\.venv\\lib\\site-packages (from httpx<1,>=0.23.0->openai) (1.0.5)\n",
      "Requirement already satisfied: h11<0.15,>=0.13 in c:\\users\\yoora\\llm_project_devcamp\\yuram-llm-bot\\.venv\\lib\\site-packages (from httpcore==1.*->httpx<1,>=0.23.0->openai) (0.14.0)\n",
      "Requirement already satisfied: annotated-types>=0.4.0 in c:\\users\\yoora\\llm_project_devcamp\\yuram-llm-bot\\.venv\\lib\\site-packages (from pydantic<3,>=1.9.0->openai) (0.7.0)\n",
      "Requirement already satisfied: pydantic-core==2.20.1 in c:\\users\\yoora\\llm_project_devcamp\\yuram-llm-bot\\.venv\\lib\\site-packages (from pydantic<3,>=1.9.0->openai) (2.20.1)\n",
      "Requirement already satisfied: colorama in c:\\users\\yoora\\llm_project_devcamp\\yuram-llm-bot\\.venv\\lib\\site-packages (from tqdm>4->openai) (0.4.6)\n"
     ]
    }
   ],
   "source": [
    "!pip install openai"
   ]
  },
  {
   "cell_type": "code",
   "execution_count": 3,
   "metadata": {},
   "outputs": [
    {
     "data": {
      "text/plain": [
       "Choice(finish_reason='stop', index=0, logprobs=None, message=ChatCompletionMessage(content='\"그닥\"은 대개 \"별로\", \"그렇지 않다\"는 뜻으로 사용되는 표현입니다. 어떤 것에 대해 불만이나 실망을 표현할 때 쓰이기도 하죠. 어떤 상황이나 주제에 대해 말씀하고 싶으신가요? 더 이야기해 주시면 도움이 되겠습니다!', refusal=None, role='assistant', function_call=None, tool_calls=None))"
      ]
     },
     "execution_count": 3,
     "metadata": {},
     "output_type": "execute_result"
    }
   ],
   "source": [
    "from openai import OpenAI\n",
    "from dotenv import load_dotenv # root 경로에 있는 .env 파일의 변수를 읽어옵니다.\n",
    "import os\n",
    "load_dotenv()\n",
    "\n",
    "api_key = os.getenv('OPENAI_API_KEY') \n",
    "# api_key : key 잘 나오는지 확인\n",
    "\n",
    "client = OpenAI(\n",
    "    api_key=api_key\n",
    ")\n",
    "\n",
    "input_msg = input('오늘 기분이 어떠세요?')\n",
    "\n",
    "res = client.chat.completions.create(\n",
    "    # model=os.getenv('OPENAI_MODEL_NAME'),\n",
    "    model='gpt-4o-mini',\n",
    "    messages=[{'role':'user', 'content':input_msg}]\n",
    ")\n",
    "\n",
    "res.choices[0]"
   ]
  },
  {
   "cell_type": "code",
   "execution_count": 4,
   "metadata": {},
   "outputs": [
    {
     "data": {
      "text/plain": [
       "'\"그닥\"은 대개 \"별로\", \"그렇지 않다\"는 뜻으로 사용되는 표현입니다. 어떤 것에 대해 불만이나 실망을 표현할 때 쓰이기도 하죠. 어떤 상황이나 주제에 대해 말씀하고 싶으신가요? 더 이야기해 주시면 도움이 되겠습니다!'"
      ]
     },
     "execution_count": 4,
     "metadata": {},
     "output_type": "execute_result"
    }
   ],
   "source": [
    "res.choices[0].message.content"
   ]
  },
  {
   "cell_type": "code",
   "execution_count": null,
   "metadata": {},
   "outputs": [],
   "source": []
  }
 ],
 "metadata": {
  "kernelspec": {
   "display_name": ".venv",
   "language": "python",
   "name": "python3"
  },
  "language_info": {
   "codemirror_mode": {
    "name": "ipython",
    "version": 3
   },
   "file_extension": ".py",
   "mimetype": "text/x-python",
   "name": "python",
   "nbconvert_exporter": "python",
   "pygments_lexer": "ipython3",
   "version": "3.12.4"
  }
 },
 "nbformat": 4,
 "nbformat_minor": 2
}
